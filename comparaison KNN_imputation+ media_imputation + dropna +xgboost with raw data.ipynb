{
 "cells": [
  {
   "cell_type": "code",
   "execution_count": 1,
   "id": "084995d9",
   "metadata": {},
   "outputs": [],
   "source": [
    "import numpy as np\n",
    "import pandas as pd\n",
    "import matplotlib.pyplot as plt\n",
    "import seaborn as sns\n",
    "\n",
    "%matplotlib inline"
   ]
  },
  {
   "cell_type": "code",
   "execution_count": 2,
   "id": "12f03028",
   "metadata": {},
   "outputs": [
    {
     "data": {
      "text/html": [
       "<div>\n",
       "<style scoped>\n",
       "    .dataframe tbody tr th:only-of-type {\n",
       "        vertical-align: middle;\n",
       "    }\n",
       "\n",
       "    .dataframe tbody tr th {\n",
       "        vertical-align: top;\n",
       "    }\n",
       "\n",
       "    .dataframe thead th {\n",
       "        text-align: right;\n",
       "    }\n",
       "</style>\n",
       "<table border=\"1\" class=\"dataframe\">\n",
       "  <thead>\n",
       "    <tr style=\"text-align: right;\">\n",
       "      <th></th>\n",
       "      <th>Date</th>\n",
       "      <th>Location</th>\n",
       "      <th>MinTemp</th>\n",
       "      <th>MaxTemp</th>\n",
       "      <th>Rainfall</th>\n",
       "      <th>Evaporation</th>\n",
       "      <th>Sunshine</th>\n",
       "      <th>WindGustDir</th>\n",
       "      <th>WindGustSpeed</th>\n",
       "      <th>WindDir9am</th>\n",
       "      <th>...</th>\n",
       "      <th>Humidity9am</th>\n",
       "      <th>Humidity3pm</th>\n",
       "      <th>Pressure9am</th>\n",
       "      <th>Pressure3pm</th>\n",
       "      <th>Cloud9am</th>\n",
       "      <th>Cloud3pm</th>\n",
       "      <th>Temp9am</th>\n",
       "      <th>Temp3pm</th>\n",
       "      <th>RainToday</th>\n",
       "      <th>RainTomorrow</th>\n",
       "    </tr>\n",
       "  </thead>\n",
       "  <tbody>\n",
       "    <tr>\n",
       "      <th>0</th>\n",
       "      <td>01/12/2008</td>\n",
       "      <td>Albury</td>\n",
       "      <td>13.4</td>\n",
       "      <td>22.9</td>\n",
       "      <td>0.6</td>\n",
       "      <td>NaN</td>\n",
       "      <td>NaN</td>\n",
       "      <td>W</td>\n",
       "      <td>44.0</td>\n",
       "      <td>W</td>\n",
       "      <td>...</td>\n",
       "      <td>71.0</td>\n",
       "      <td>22.0</td>\n",
       "      <td>1007.7</td>\n",
       "      <td>1007.1</td>\n",
       "      <td>8.0</td>\n",
       "      <td>NaN</td>\n",
       "      <td>16.9</td>\n",
       "      <td>21.8</td>\n",
       "      <td>No</td>\n",
       "      <td>No</td>\n",
       "    </tr>\n",
       "    <tr>\n",
       "      <th>1</th>\n",
       "      <td>02/12/2008</td>\n",
       "      <td>Albury</td>\n",
       "      <td>7.4</td>\n",
       "      <td>25.1</td>\n",
       "      <td>0.0</td>\n",
       "      <td>NaN</td>\n",
       "      <td>NaN</td>\n",
       "      <td>WNW</td>\n",
       "      <td>44.0</td>\n",
       "      <td>NNW</td>\n",
       "      <td>...</td>\n",
       "      <td>44.0</td>\n",
       "      <td>25.0</td>\n",
       "      <td>1010.6</td>\n",
       "      <td>1007.8</td>\n",
       "      <td>NaN</td>\n",
       "      <td>NaN</td>\n",
       "      <td>17.2</td>\n",
       "      <td>24.3</td>\n",
       "      <td>No</td>\n",
       "      <td>No</td>\n",
       "    </tr>\n",
       "    <tr>\n",
       "      <th>2</th>\n",
       "      <td>03/12/2008</td>\n",
       "      <td>Albury</td>\n",
       "      <td>12.9</td>\n",
       "      <td>25.7</td>\n",
       "      <td>0.0</td>\n",
       "      <td>NaN</td>\n",
       "      <td>NaN</td>\n",
       "      <td>WSW</td>\n",
       "      <td>46.0</td>\n",
       "      <td>W</td>\n",
       "      <td>...</td>\n",
       "      <td>38.0</td>\n",
       "      <td>30.0</td>\n",
       "      <td>1007.6</td>\n",
       "      <td>1008.7</td>\n",
       "      <td>NaN</td>\n",
       "      <td>2.0</td>\n",
       "      <td>21.0</td>\n",
       "      <td>23.2</td>\n",
       "      <td>No</td>\n",
       "      <td>No</td>\n",
       "    </tr>\n",
       "    <tr>\n",
       "      <th>3</th>\n",
       "      <td>04/12/2008</td>\n",
       "      <td>Albury</td>\n",
       "      <td>9.2</td>\n",
       "      <td>28.0</td>\n",
       "      <td>0.0</td>\n",
       "      <td>NaN</td>\n",
       "      <td>NaN</td>\n",
       "      <td>NE</td>\n",
       "      <td>24.0</td>\n",
       "      <td>SE</td>\n",
       "      <td>...</td>\n",
       "      <td>45.0</td>\n",
       "      <td>16.0</td>\n",
       "      <td>1017.6</td>\n",
       "      <td>1012.8</td>\n",
       "      <td>NaN</td>\n",
       "      <td>NaN</td>\n",
       "      <td>18.1</td>\n",
       "      <td>26.5</td>\n",
       "      <td>No</td>\n",
       "      <td>No</td>\n",
       "    </tr>\n",
       "    <tr>\n",
       "      <th>4</th>\n",
       "      <td>05/12/2008</td>\n",
       "      <td>Albury</td>\n",
       "      <td>17.5</td>\n",
       "      <td>32.3</td>\n",
       "      <td>1.0</td>\n",
       "      <td>NaN</td>\n",
       "      <td>NaN</td>\n",
       "      <td>W</td>\n",
       "      <td>41.0</td>\n",
       "      <td>ENE</td>\n",
       "      <td>...</td>\n",
       "      <td>82.0</td>\n",
       "      <td>33.0</td>\n",
       "      <td>1010.8</td>\n",
       "      <td>1006.0</td>\n",
       "      <td>7.0</td>\n",
       "      <td>8.0</td>\n",
       "      <td>17.8</td>\n",
       "      <td>29.7</td>\n",
       "      <td>No</td>\n",
       "      <td>No</td>\n",
       "    </tr>\n",
       "    <tr>\n",
       "      <th>...</th>\n",
       "      <td>...</td>\n",
       "      <td>...</td>\n",
       "      <td>...</td>\n",
       "      <td>...</td>\n",
       "      <td>...</td>\n",
       "      <td>...</td>\n",
       "      <td>...</td>\n",
       "      <td>...</td>\n",
       "      <td>...</td>\n",
       "      <td>...</td>\n",
       "      <td>...</td>\n",
       "      <td>...</td>\n",
       "      <td>...</td>\n",
       "      <td>...</td>\n",
       "      <td>...</td>\n",
       "      <td>...</td>\n",
       "      <td>...</td>\n",
       "      <td>...</td>\n",
       "      <td>...</td>\n",
       "      <td>...</td>\n",
       "      <td>...</td>\n",
       "    </tr>\n",
       "    <tr>\n",
       "      <th>145455</th>\n",
       "      <td>21/06/2017</td>\n",
       "      <td>Uluru</td>\n",
       "      <td>2.8</td>\n",
       "      <td>23.4</td>\n",
       "      <td>0.0</td>\n",
       "      <td>NaN</td>\n",
       "      <td>NaN</td>\n",
       "      <td>E</td>\n",
       "      <td>31.0</td>\n",
       "      <td>SE</td>\n",
       "      <td>...</td>\n",
       "      <td>51.0</td>\n",
       "      <td>24.0</td>\n",
       "      <td>1024.6</td>\n",
       "      <td>1020.3</td>\n",
       "      <td>NaN</td>\n",
       "      <td>NaN</td>\n",
       "      <td>10.1</td>\n",
       "      <td>22.4</td>\n",
       "      <td>No</td>\n",
       "      <td>No</td>\n",
       "    </tr>\n",
       "    <tr>\n",
       "      <th>145456</th>\n",
       "      <td>22/06/2017</td>\n",
       "      <td>Uluru</td>\n",
       "      <td>3.6</td>\n",
       "      <td>25.3</td>\n",
       "      <td>0.0</td>\n",
       "      <td>NaN</td>\n",
       "      <td>NaN</td>\n",
       "      <td>NNW</td>\n",
       "      <td>22.0</td>\n",
       "      <td>SE</td>\n",
       "      <td>...</td>\n",
       "      <td>56.0</td>\n",
       "      <td>21.0</td>\n",
       "      <td>1023.5</td>\n",
       "      <td>1019.1</td>\n",
       "      <td>NaN</td>\n",
       "      <td>NaN</td>\n",
       "      <td>10.9</td>\n",
       "      <td>24.5</td>\n",
       "      <td>No</td>\n",
       "      <td>No</td>\n",
       "    </tr>\n",
       "    <tr>\n",
       "      <th>145457</th>\n",
       "      <td>23/06/2017</td>\n",
       "      <td>Uluru</td>\n",
       "      <td>5.4</td>\n",
       "      <td>26.9</td>\n",
       "      <td>0.0</td>\n",
       "      <td>NaN</td>\n",
       "      <td>NaN</td>\n",
       "      <td>N</td>\n",
       "      <td>37.0</td>\n",
       "      <td>SE</td>\n",
       "      <td>...</td>\n",
       "      <td>53.0</td>\n",
       "      <td>24.0</td>\n",
       "      <td>1021.0</td>\n",
       "      <td>1016.8</td>\n",
       "      <td>NaN</td>\n",
       "      <td>NaN</td>\n",
       "      <td>12.5</td>\n",
       "      <td>26.1</td>\n",
       "      <td>No</td>\n",
       "      <td>No</td>\n",
       "    </tr>\n",
       "    <tr>\n",
       "      <th>145458</th>\n",
       "      <td>24/06/2017</td>\n",
       "      <td>Uluru</td>\n",
       "      <td>7.8</td>\n",
       "      <td>27.0</td>\n",
       "      <td>0.0</td>\n",
       "      <td>NaN</td>\n",
       "      <td>NaN</td>\n",
       "      <td>SE</td>\n",
       "      <td>28.0</td>\n",
       "      <td>SSE</td>\n",
       "      <td>...</td>\n",
       "      <td>51.0</td>\n",
       "      <td>24.0</td>\n",
       "      <td>1019.4</td>\n",
       "      <td>1016.5</td>\n",
       "      <td>3.0</td>\n",
       "      <td>2.0</td>\n",
       "      <td>15.1</td>\n",
       "      <td>26.0</td>\n",
       "      <td>No</td>\n",
       "      <td>No</td>\n",
       "    </tr>\n",
       "    <tr>\n",
       "      <th>145459</th>\n",
       "      <td>25/06/2017</td>\n",
       "      <td>Uluru</td>\n",
       "      <td>14.9</td>\n",
       "      <td>NaN</td>\n",
       "      <td>0.0</td>\n",
       "      <td>NaN</td>\n",
       "      <td>NaN</td>\n",
       "      <td>NaN</td>\n",
       "      <td>NaN</td>\n",
       "      <td>ESE</td>\n",
       "      <td>...</td>\n",
       "      <td>62.0</td>\n",
       "      <td>36.0</td>\n",
       "      <td>1020.2</td>\n",
       "      <td>1017.9</td>\n",
       "      <td>8.0</td>\n",
       "      <td>8.0</td>\n",
       "      <td>15.0</td>\n",
       "      <td>20.9</td>\n",
       "      <td>No</td>\n",
       "      <td>NaN</td>\n",
       "    </tr>\n",
       "  </tbody>\n",
       "</table>\n",
       "<p>145460 rows × 23 columns</p>\n",
       "</div>"
      ],
      "text/plain": [
       "              Date Location  MinTemp  MaxTemp  Rainfall  Evaporation  \\\n",
       "0       01/12/2008   Albury     13.4     22.9       0.6          NaN   \n",
       "1       02/12/2008   Albury      7.4     25.1       0.0          NaN   \n",
       "2       03/12/2008   Albury     12.9     25.7       0.0          NaN   \n",
       "3       04/12/2008   Albury      9.2     28.0       0.0          NaN   \n",
       "4       05/12/2008   Albury     17.5     32.3       1.0          NaN   \n",
       "...            ...      ...      ...      ...       ...          ...   \n",
       "145455  21/06/2017    Uluru      2.8     23.4       0.0          NaN   \n",
       "145456  22/06/2017    Uluru      3.6     25.3       0.0          NaN   \n",
       "145457  23/06/2017    Uluru      5.4     26.9       0.0          NaN   \n",
       "145458  24/06/2017    Uluru      7.8     27.0       0.0          NaN   \n",
       "145459  25/06/2017    Uluru     14.9      NaN       0.0          NaN   \n",
       "\n",
       "        Sunshine WindGustDir  WindGustSpeed WindDir9am  ... Humidity9am  \\\n",
       "0            NaN           W           44.0          W  ...        71.0   \n",
       "1            NaN         WNW           44.0        NNW  ...        44.0   \n",
       "2            NaN         WSW           46.0          W  ...        38.0   \n",
       "3            NaN          NE           24.0         SE  ...        45.0   \n",
       "4            NaN           W           41.0        ENE  ...        82.0   \n",
       "...          ...         ...            ...        ...  ...         ...   \n",
       "145455       NaN           E           31.0         SE  ...        51.0   \n",
       "145456       NaN         NNW           22.0         SE  ...        56.0   \n",
       "145457       NaN           N           37.0         SE  ...        53.0   \n",
       "145458       NaN          SE           28.0        SSE  ...        51.0   \n",
       "145459       NaN         NaN            NaN        ESE  ...        62.0   \n",
       "\n",
       "        Humidity3pm  Pressure9am  Pressure3pm  Cloud9am  Cloud3pm  Temp9am  \\\n",
       "0              22.0       1007.7       1007.1       8.0       NaN     16.9   \n",
       "1              25.0       1010.6       1007.8       NaN       NaN     17.2   \n",
       "2              30.0       1007.6       1008.7       NaN       2.0     21.0   \n",
       "3              16.0       1017.6       1012.8       NaN       NaN     18.1   \n",
       "4              33.0       1010.8       1006.0       7.0       8.0     17.8   \n",
       "...             ...          ...          ...       ...       ...      ...   \n",
       "145455         24.0       1024.6       1020.3       NaN       NaN     10.1   \n",
       "145456         21.0       1023.5       1019.1       NaN       NaN     10.9   \n",
       "145457         24.0       1021.0       1016.8       NaN       NaN     12.5   \n",
       "145458         24.0       1019.4       1016.5       3.0       2.0     15.1   \n",
       "145459         36.0       1020.2       1017.9       8.0       8.0     15.0   \n",
       "\n",
       "        Temp3pm  RainToday  RainTomorrow  \n",
       "0          21.8         No            No  \n",
       "1          24.3         No            No  \n",
       "2          23.2         No            No  \n",
       "3          26.5         No            No  \n",
       "4          29.7         No            No  \n",
       "...         ...        ...           ...  \n",
       "145455     22.4         No            No  \n",
       "145456     24.5         No            No  \n",
       "145457     26.1         No            No  \n",
       "145458     26.0         No            No  \n",
       "145459     20.9         No           NaN  \n",
       "\n",
       "[145460 rows x 23 columns]"
      ]
     },
     "execution_count": 2,
     "metadata": {},
     "output_type": "execute_result"
    }
   ],
   "source": [
    "df = pd.read_csv('weatherAUS.csv',sep=';')\n",
    "df"
   ]
  },
  {
   "cell_type": "markdown",
   "id": "56dbaff3",
   "metadata": {},
   "source": [
    "I keep only quantitative variable for this comparaison."
   ]
  },
  {
   "cell_type": "code",
   "execution_count": 15,
   "id": "06cbef0e",
   "metadata": {},
   "outputs": [],
   "source": [
    "var_selected = [ 'Rainfall', 'Evaporation', 'Sunshine','Humidity9am','Humidity3pm',\n",
    "                'Pressure3pm', 'Cloud9am', 'Cloud3pm', 'Temp3pm','RainToday','RainTomorrow','Date']"
   ]
  },
  {
   "cell_type": "code",
   "execution_count": 16,
   "id": "fd907db1",
   "metadata": {},
   "outputs": [
    {
     "data": {
      "text/html": [
       "<div>\n",
       "<style scoped>\n",
       "    .dataframe tbody tr th:only-of-type {\n",
       "        vertical-align: middle;\n",
       "    }\n",
       "\n",
       "    .dataframe tbody tr th {\n",
       "        vertical-align: top;\n",
       "    }\n",
       "\n",
       "    .dataframe thead th {\n",
       "        text-align: right;\n",
       "    }\n",
       "</style>\n",
       "<table border=\"1\" class=\"dataframe\">\n",
       "  <thead>\n",
       "    <tr style=\"text-align: right;\">\n",
       "      <th></th>\n",
       "      <th>Rainfall</th>\n",
       "      <th>Evaporation</th>\n",
       "      <th>Sunshine</th>\n",
       "      <th>Humidity9am</th>\n",
       "      <th>Humidity3pm</th>\n",
       "      <th>Pressure3pm</th>\n",
       "      <th>Cloud9am</th>\n",
       "      <th>Cloud3pm</th>\n",
       "      <th>Temp3pm</th>\n",
       "      <th>RainToday</th>\n",
       "      <th>RainTomorrow</th>\n",
       "      <th>Date</th>\n",
       "    </tr>\n",
       "  </thead>\n",
       "  <tbody>\n",
       "    <tr>\n",
       "      <th>0</th>\n",
       "      <td>0.6</td>\n",
       "      <td>NaN</td>\n",
       "      <td>NaN</td>\n",
       "      <td>71.0</td>\n",
       "      <td>22.0</td>\n",
       "      <td>1007.1</td>\n",
       "      <td>8.0</td>\n",
       "      <td>NaN</td>\n",
       "      <td>21.8</td>\n",
       "      <td>No</td>\n",
       "      <td>No</td>\n",
       "      <td>01/12/2008</td>\n",
       "    </tr>\n",
       "    <tr>\n",
       "      <th>1</th>\n",
       "      <td>0.0</td>\n",
       "      <td>NaN</td>\n",
       "      <td>NaN</td>\n",
       "      <td>44.0</td>\n",
       "      <td>25.0</td>\n",
       "      <td>1007.8</td>\n",
       "      <td>NaN</td>\n",
       "      <td>NaN</td>\n",
       "      <td>24.3</td>\n",
       "      <td>No</td>\n",
       "      <td>No</td>\n",
       "      <td>02/12/2008</td>\n",
       "    </tr>\n",
       "    <tr>\n",
       "      <th>2</th>\n",
       "      <td>0.0</td>\n",
       "      <td>NaN</td>\n",
       "      <td>NaN</td>\n",
       "      <td>38.0</td>\n",
       "      <td>30.0</td>\n",
       "      <td>1008.7</td>\n",
       "      <td>NaN</td>\n",
       "      <td>2.0</td>\n",
       "      <td>23.2</td>\n",
       "      <td>No</td>\n",
       "      <td>No</td>\n",
       "      <td>03/12/2008</td>\n",
       "    </tr>\n",
       "    <tr>\n",
       "      <th>3</th>\n",
       "      <td>0.0</td>\n",
       "      <td>NaN</td>\n",
       "      <td>NaN</td>\n",
       "      <td>45.0</td>\n",
       "      <td>16.0</td>\n",
       "      <td>1012.8</td>\n",
       "      <td>NaN</td>\n",
       "      <td>NaN</td>\n",
       "      <td>26.5</td>\n",
       "      <td>No</td>\n",
       "      <td>No</td>\n",
       "      <td>04/12/2008</td>\n",
       "    </tr>\n",
       "    <tr>\n",
       "      <th>4</th>\n",
       "      <td>1.0</td>\n",
       "      <td>NaN</td>\n",
       "      <td>NaN</td>\n",
       "      <td>82.0</td>\n",
       "      <td>33.0</td>\n",
       "      <td>1006.0</td>\n",
       "      <td>7.0</td>\n",
       "      <td>8.0</td>\n",
       "      <td>29.7</td>\n",
       "      <td>No</td>\n",
       "      <td>No</td>\n",
       "      <td>05/12/2008</td>\n",
       "    </tr>\n",
       "    <tr>\n",
       "      <th>...</th>\n",
       "      <td>...</td>\n",
       "      <td>...</td>\n",
       "      <td>...</td>\n",
       "      <td>...</td>\n",
       "      <td>...</td>\n",
       "      <td>...</td>\n",
       "      <td>...</td>\n",
       "      <td>...</td>\n",
       "      <td>...</td>\n",
       "      <td>...</td>\n",
       "      <td>...</td>\n",
       "      <td>...</td>\n",
       "    </tr>\n",
       "    <tr>\n",
       "      <th>145455</th>\n",
       "      <td>0.0</td>\n",
       "      <td>NaN</td>\n",
       "      <td>NaN</td>\n",
       "      <td>51.0</td>\n",
       "      <td>24.0</td>\n",
       "      <td>1020.3</td>\n",
       "      <td>NaN</td>\n",
       "      <td>NaN</td>\n",
       "      <td>22.4</td>\n",
       "      <td>No</td>\n",
       "      <td>No</td>\n",
       "      <td>21/06/2017</td>\n",
       "    </tr>\n",
       "    <tr>\n",
       "      <th>145456</th>\n",
       "      <td>0.0</td>\n",
       "      <td>NaN</td>\n",
       "      <td>NaN</td>\n",
       "      <td>56.0</td>\n",
       "      <td>21.0</td>\n",
       "      <td>1019.1</td>\n",
       "      <td>NaN</td>\n",
       "      <td>NaN</td>\n",
       "      <td>24.5</td>\n",
       "      <td>No</td>\n",
       "      <td>No</td>\n",
       "      <td>22/06/2017</td>\n",
       "    </tr>\n",
       "    <tr>\n",
       "      <th>145457</th>\n",
       "      <td>0.0</td>\n",
       "      <td>NaN</td>\n",
       "      <td>NaN</td>\n",
       "      <td>53.0</td>\n",
       "      <td>24.0</td>\n",
       "      <td>1016.8</td>\n",
       "      <td>NaN</td>\n",
       "      <td>NaN</td>\n",
       "      <td>26.1</td>\n",
       "      <td>No</td>\n",
       "      <td>No</td>\n",
       "      <td>23/06/2017</td>\n",
       "    </tr>\n",
       "    <tr>\n",
       "      <th>145458</th>\n",
       "      <td>0.0</td>\n",
       "      <td>NaN</td>\n",
       "      <td>NaN</td>\n",
       "      <td>51.0</td>\n",
       "      <td>24.0</td>\n",
       "      <td>1016.5</td>\n",
       "      <td>3.0</td>\n",
       "      <td>2.0</td>\n",
       "      <td>26.0</td>\n",
       "      <td>No</td>\n",
       "      <td>No</td>\n",
       "      <td>24/06/2017</td>\n",
       "    </tr>\n",
       "    <tr>\n",
       "      <th>145459</th>\n",
       "      <td>0.0</td>\n",
       "      <td>NaN</td>\n",
       "      <td>NaN</td>\n",
       "      <td>62.0</td>\n",
       "      <td>36.0</td>\n",
       "      <td>1017.9</td>\n",
       "      <td>8.0</td>\n",
       "      <td>8.0</td>\n",
       "      <td>20.9</td>\n",
       "      <td>No</td>\n",
       "      <td>NaN</td>\n",
       "      <td>25/06/2017</td>\n",
       "    </tr>\n",
       "  </tbody>\n",
       "</table>\n",
       "<p>145460 rows × 12 columns</p>\n",
       "</div>"
      ],
      "text/plain": [
       "        Rainfall  Evaporation  Sunshine  Humidity9am  Humidity3pm  \\\n",
       "0            0.6          NaN       NaN         71.0         22.0   \n",
       "1            0.0          NaN       NaN         44.0         25.0   \n",
       "2            0.0          NaN       NaN         38.0         30.0   \n",
       "3            0.0          NaN       NaN         45.0         16.0   \n",
       "4            1.0          NaN       NaN         82.0         33.0   \n",
       "...          ...          ...       ...          ...          ...   \n",
       "145455       0.0          NaN       NaN         51.0         24.0   \n",
       "145456       0.0          NaN       NaN         56.0         21.0   \n",
       "145457       0.0          NaN       NaN         53.0         24.0   \n",
       "145458       0.0          NaN       NaN         51.0         24.0   \n",
       "145459       0.0          NaN       NaN         62.0         36.0   \n",
       "\n",
       "        Pressure3pm  Cloud9am  Cloud3pm  Temp3pm RainToday RainTomorrow  \\\n",
       "0            1007.1       8.0       NaN     21.8        No           No   \n",
       "1            1007.8       NaN       NaN     24.3        No           No   \n",
       "2            1008.7       NaN       2.0     23.2        No           No   \n",
       "3            1012.8       NaN       NaN     26.5        No           No   \n",
       "4            1006.0       7.0       8.0     29.7        No           No   \n",
       "...             ...       ...       ...      ...       ...          ...   \n",
       "145455       1020.3       NaN       NaN     22.4        No           No   \n",
       "145456       1019.1       NaN       NaN     24.5        No           No   \n",
       "145457       1016.8       NaN       NaN     26.1        No           No   \n",
       "145458       1016.5       3.0       2.0     26.0        No           No   \n",
       "145459       1017.9       8.0       8.0     20.9        No          NaN   \n",
       "\n",
       "              Date  \n",
       "0       01/12/2008  \n",
       "1       02/12/2008  \n",
       "2       03/12/2008  \n",
       "3       04/12/2008  \n",
       "4       05/12/2008  \n",
       "...            ...  \n",
       "145455  21/06/2017  \n",
       "145456  22/06/2017  \n",
       "145457  23/06/2017  \n",
       "145458  24/06/2017  \n",
       "145459  25/06/2017  \n",
       "\n",
       "[145460 rows x 12 columns]"
      ]
     },
     "execution_count": 16,
     "metadata": {},
     "output_type": "execute_result"
    }
   ],
   "source": [
    "df_selected = df[var_selected]\n",
    "df_selected"
   ]
  },
  {
   "cell_type": "markdown",
   "id": "8272ac94",
   "metadata": {},
   "source": [
    "Because of the RAM memory limit, I'll keep 2016 for this test."
   ]
  },
  {
   "cell_type": "code",
   "execution_count": 17,
   "id": "941c751d",
   "metadata": {},
   "outputs": [
    {
     "name": "stderr",
     "output_type": "stream",
     "text": [
      "C:\\Users\\JINGYI~1\\AppData\\Local\\Temp/ipykernel_10268/2190354078.py:1: SettingWithCopyWarning: \n",
      "A value is trying to be set on a copy of a slice from a DataFrame.\n",
      "Try using .loc[row_indexer,col_indexer] = value instead\n",
      "\n",
      "See the caveats in the documentation: https://pandas.pydata.org/pandas-docs/stable/user_guide/indexing.html#returning-a-view-versus-a-copy\n",
      "  df_selected['Year']=pd.to_datetime(df_selected['Date']).dt.year\n"
     ]
    }
   ],
   "source": [
    "df_selected['Year']=pd.to_datetime(df_selected['Date']).dt.year\n"
   ]
  },
  {
   "cell_type": "code",
   "execution_count": 18,
   "id": "42f1e382",
   "metadata": {},
   "outputs": [],
   "source": [
    "df=df_selected[(df_selected['Year']==2016)]"
   ]
  },
  {
   "cell_type": "code",
   "execution_count": 26,
   "id": "ab0cb92d",
   "metadata": {},
   "outputs": [
    {
     "data": {
      "text/html": [
       "<div>\n",
       "<style scoped>\n",
       "    .dataframe tbody tr th:only-of-type {\n",
       "        vertical-align: middle;\n",
       "    }\n",
       "\n",
       "    .dataframe tbody tr th {\n",
       "        vertical-align: top;\n",
       "    }\n",
       "\n",
       "    .dataframe thead th {\n",
       "        text-align: right;\n",
       "    }\n",
       "</style>\n",
       "<table border=\"1\" class=\"dataframe\">\n",
       "  <thead>\n",
       "    <tr style=\"text-align: right;\">\n",
       "      <th></th>\n",
       "      <th>Rainfall</th>\n",
       "      <th>Evaporation</th>\n",
       "      <th>Sunshine</th>\n",
       "      <th>Humidity9am</th>\n",
       "      <th>Humidity3pm</th>\n",
       "      <th>Pressure3pm</th>\n",
       "      <th>Cloud9am</th>\n",
       "      <th>Cloud3pm</th>\n",
       "      <th>Temp3pm</th>\n",
       "      <th>RainToday</th>\n",
       "      <th>RainTomorrow</th>\n",
       "      <th>Year</th>\n",
       "    </tr>\n",
       "  </thead>\n",
       "  <tbody>\n",
       "    <tr>\n",
       "      <th>2498</th>\n",
       "      <td>0.0</td>\n",
       "      <td>NaN</td>\n",
       "      <td>NaN</td>\n",
       "      <td>46.0</td>\n",
       "      <td>17.0</td>\n",
       "      <td>1009.2</td>\n",
       "      <td>7.0</td>\n",
       "      <td>3.0</td>\n",
       "      <td>36.7</td>\n",
       "      <td>No</td>\n",
       "      <td>No</td>\n",
       "      <td>2016</td>\n",
       "    </tr>\n",
       "    <tr>\n",
       "      <th>2499</th>\n",
       "      <td>0.4</td>\n",
       "      <td>NaN</td>\n",
       "      <td>NaN</td>\n",
       "      <td>54.0</td>\n",
       "      <td>30.0</td>\n",
       "      <td>1008.4</td>\n",
       "      <td>8.0</td>\n",
       "      <td>8.0</td>\n",
       "      <td>31.7</td>\n",
       "      <td>No</td>\n",
       "      <td>Yes</td>\n",
       "      <td>2016</td>\n",
       "    </tr>\n",
       "    <tr>\n",
       "      <th>2500</th>\n",
       "      <td>2.2</td>\n",
       "      <td>NaN</td>\n",
       "      <td>NaN</td>\n",
       "      <td>62.0</td>\n",
       "      <td>67.0</td>\n",
       "      <td>1014.8</td>\n",
       "      <td>8.0</td>\n",
       "      <td>8.0</td>\n",
       "      <td>19.5</td>\n",
       "      <td>Yes</td>\n",
       "      <td>Yes</td>\n",
       "      <td>2016</td>\n",
       "    </tr>\n",
       "    <tr>\n",
       "      <th>2501</th>\n",
       "      <td>15.6</td>\n",
       "      <td>NaN</td>\n",
       "      <td>NaN</td>\n",
       "      <td>74.0</td>\n",
       "      <td>65.0</td>\n",
       "      <td>1016.5</td>\n",
       "      <td>8.0</td>\n",
       "      <td>8.0</td>\n",
       "      <td>21.6</td>\n",
       "      <td>Yes</td>\n",
       "      <td>Yes</td>\n",
       "      <td>2016</td>\n",
       "    </tr>\n",
       "    <tr>\n",
       "      <th>2502</th>\n",
       "      <td>6.8</td>\n",
       "      <td>NaN</td>\n",
       "      <td>NaN</td>\n",
       "      <td>92.0</td>\n",
       "      <td>63.0</td>\n",
       "      <td>1013.9</td>\n",
       "      <td>8.0</td>\n",
       "      <td>8.0</td>\n",
       "      <td>22.2</td>\n",
       "      <td>Yes</td>\n",
       "      <td>No</td>\n",
       "      <td>2016</td>\n",
       "    </tr>\n",
       "    <tr>\n",
       "      <th>...</th>\n",
       "      <td>...</td>\n",
       "      <td>...</td>\n",
       "      <td>...</td>\n",
       "      <td>...</td>\n",
       "      <td>...</td>\n",
       "      <td>...</td>\n",
       "      <td>...</td>\n",
       "      <td>...</td>\n",
       "      <td>...</td>\n",
       "      <td>...</td>\n",
       "      <td>...</td>\n",
       "      <td>...</td>\n",
       "    </tr>\n",
       "    <tr>\n",
       "      <th>145279</th>\n",
       "      <td>63.8</td>\n",
       "      <td>NaN</td>\n",
       "      <td>NaN</td>\n",
       "      <td>77.0</td>\n",
       "      <td>41.0</td>\n",
       "      <td>995.2</td>\n",
       "      <td>4.0</td>\n",
       "      <td>2.0</td>\n",
       "      <td>33.5</td>\n",
       "      <td>Yes</td>\n",
       "      <td>No</td>\n",
       "      <td>2016</td>\n",
       "    </tr>\n",
       "    <tr>\n",
       "      <th>145280</th>\n",
       "      <td>0.0</td>\n",
       "      <td>NaN</td>\n",
       "      <td>NaN</td>\n",
       "      <td>63.0</td>\n",
       "      <td>39.0</td>\n",
       "      <td>998.8</td>\n",
       "      <td>NaN</td>\n",
       "      <td>NaN</td>\n",
       "      <td>34.0</td>\n",
       "      <td>No</td>\n",
       "      <td>No</td>\n",
       "      <td>2016</td>\n",
       "    </tr>\n",
       "    <tr>\n",
       "      <th>145281</th>\n",
       "      <td>0.0</td>\n",
       "      <td>NaN</td>\n",
       "      <td>NaN</td>\n",
       "      <td>25.0</td>\n",
       "      <td>14.0</td>\n",
       "      <td>1001.0</td>\n",
       "      <td>NaN</td>\n",
       "      <td>NaN</td>\n",
       "      <td>36.4</td>\n",
       "      <td>No</td>\n",
       "      <td>No</td>\n",
       "      <td>2016</td>\n",
       "    </tr>\n",
       "    <tr>\n",
       "      <th>145282</th>\n",
       "      <td>0.0</td>\n",
       "      <td>NaN</td>\n",
       "      <td>NaN</td>\n",
       "      <td>30.0</td>\n",
       "      <td>23.0</td>\n",
       "      <td>1000.9</td>\n",
       "      <td>NaN</td>\n",
       "      <td>NaN</td>\n",
       "      <td>35.1</td>\n",
       "      <td>No</td>\n",
       "      <td>No</td>\n",
       "      <td>2016</td>\n",
       "    </tr>\n",
       "    <tr>\n",
       "      <th>145283</th>\n",
       "      <td>0.0</td>\n",
       "      <td>NaN</td>\n",
       "      <td>NaN</td>\n",
       "      <td>40.0</td>\n",
       "      <td>38.0</td>\n",
       "      <td>1002.7</td>\n",
       "      <td>5.0</td>\n",
       "      <td>NaN</td>\n",
       "      <td>31.5</td>\n",
       "      <td>No</td>\n",
       "      <td>No</td>\n",
       "      <td>2016</td>\n",
       "    </tr>\n",
       "  </tbody>\n",
       "</table>\n",
       "<p>17934 rows × 12 columns</p>\n",
       "</div>"
      ],
      "text/plain": [
       "        Rainfall  Evaporation  Sunshine  Humidity9am  Humidity3pm  \\\n",
       "2498         0.0          NaN       NaN         46.0         17.0   \n",
       "2499         0.4          NaN       NaN         54.0         30.0   \n",
       "2500         2.2          NaN       NaN         62.0         67.0   \n",
       "2501        15.6          NaN       NaN         74.0         65.0   \n",
       "2502         6.8          NaN       NaN         92.0         63.0   \n",
       "...          ...          ...       ...          ...          ...   \n",
       "145279      63.8          NaN       NaN         77.0         41.0   \n",
       "145280       0.0          NaN       NaN         63.0         39.0   \n",
       "145281       0.0          NaN       NaN         25.0         14.0   \n",
       "145282       0.0          NaN       NaN         30.0         23.0   \n",
       "145283       0.0          NaN       NaN         40.0         38.0   \n",
       "\n",
       "        Pressure3pm  Cloud9am  Cloud3pm  Temp3pm RainToday RainTomorrow  Year  \n",
       "2498         1009.2       7.0       3.0     36.7        No           No  2016  \n",
       "2499         1008.4       8.0       8.0     31.7        No          Yes  2016  \n",
       "2500         1014.8       8.0       8.0     19.5       Yes          Yes  2016  \n",
       "2501         1016.5       8.0       8.0     21.6       Yes          Yes  2016  \n",
       "2502         1013.9       8.0       8.0     22.2       Yes           No  2016  \n",
       "...             ...       ...       ...      ...       ...          ...   ...  \n",
       "145279        995.2       4.0       2.0     33.5       Yes           No  2016  \n",
       "145280        998.8       NaN       NaN     34.0        No           No  2016  \n",
       "145281       1001.0       NaN       NaN     36.4        No           No  2016  \n",
       "145282       1000.9       NaN       NaN     35.1        No           No  2016  \n",
       "145283       1002.7       5.0       NaN     31.5        No           No  2016  \n",
       "\n",
       "[17934 rows x 12 columns]"
      ]
     },
     "execution_count": 26,
     "metadata": {},
     "output_type": "execute_result"
    }
   ],
   "source": [
    "df = df.drop(columns='Date', axis=1)\n",
    "df"
   ]
  },
  {
   "cell_type": "markdown",
   "id": "e6289c3d",
   "metadata": {},
   "source": [
    "I remove missing values in the target (RainTomorrow) and RainToday, then I replace yes/no by 1/0."
   ]
  },
  {
   "cell_type": "code",
   "execution_count": 28,
   "id": "43b1ee43",
   "metadata": {},
   "outputs": [],
   "source": [
    "df = df.dropna(axis=0, subset=['RainToday','RainTomorrow'])"
   ]
  },
  {
   "cell_type": "code",
   "execution_count": 29,
   "id": "dcc32fc7",
   "metadata": {},
   "outputs": [],
   "source": [
    "df = df.replace(['No','Yes'], value = [0,1])"
   ]
  },
  {
   "cell_type": "code",
   "execution_count": 24,
   "id": "e0f70315",
   "metadata": {},
   "outputs": [
    {
     "data": {
      "text/plain": [
       "<AxesSubplot:>"
      ]
     },
     "execution_count": 24,
     "metadata": {},
     "output_type": "execute_result"
    },
    {
     "data": {
      "image/png": "[encoded data removed]",
      "text/plain": [
       "<Figure size 1800x720 with 3 Axes>"
      ]
     },
     "metadata": {
      "needs_background": "light"
     },
     "output_type": "display_data"
    },
    {
     "data": {
      "image/png": "[encoded data removed]",
      "text/plain": [
       "<Figure size 1800x720 with 2 Axes>"
      ]
     },
     "metadata": {
      "needs_background": "light"
     },
     "output_type": "display_data"
    }
   ],
   "source": [
    "import missingno as msno\n",
    "msno.bar(df_selected)\n",
    "msno.matrix(df_selected)"
   ]
  },
  {
   "cell_type": "code",
   "execution_count": 11,
   "id": "70cfa61c",
   "metadata": {},
   "outputs": [
    {
     "data": {
      "text/plain": [
       "<AxesSubplot:>"
      ]
     },
     "execution_count": 11,
     "metadata": {},
     "output_type": "execute_result"
    },
    {
     "data": {
      "image/png": "[encoded data removed]",
      "text/plain": [
       "<Figure size 1800x720 with 1 Axes>"
      ]
     },
     "metadata": {
      "needs_background": "light"
     },
     "output_type": "display_data"
    }
   ],
   "source": [
    "msno.dendrogram(df)"
   ]
  },
  {
   "cell_type": "markdown",
   "id": "1f301a02",
   "metadata": {},
   "source": [
    "There is a strong correlation between the missing values of Sunshine/Evaportion and Cloud3pm/Cloud9am."
   ]
  },
  {
   "cell_type": "markdown",
   "id": "36e0472a",
   "metadata": {},
   "source": [
    "<p style=\"font-size: 1.5rem; color: #228ae6\">Deal with missing values by KNN imputation</p>"
   ]
  },
  {
   "cell_type": "code",
   "execution_count": 20,
   "id": "42a2c244",
   "metadata": {},
   "outputs": [],
   "source": [
    "from fancyimpute import KNN"
   ]
  },
  {
   "cell_type": "code",
   "execution_count": 31,
   "id": "197d59d8",
   "metadata": {},
   "outputs": [
    {
     "name": "stdout",
     "output_type": "stream",
     "text": [
      "Imputing row 1/17341 with 2 missing, elapsed time: 103.933\n",
      "Imputing row 101/17341 with 3 missing, elapsed time: 104.311\n",
      "Imputing row 201/17341 with 2 missing, elapsed time: 104.516\n",
      "Imputing row 301/17341 with 3 missing, elapsed time: 107.293\n",
      "Imputing row 401/17341 with 4 missing, elapsed time: 109.718\n",
      "Imputing row 501/17341 with 4 missing, elapsed time: 109.920\n",
      "Imputing row 601/17341 with 4 missing, elapsed time: 110.104\n",
      "Imputing row 701/17341 with 4 missing, elapsed time: 110.259\n",
      "Imputing row 801/17341 with 1 missing, elapsed time: 110.383\n",
      "Imputing row 901/17341 with 4 missing, elapsed time: 110.473\n",
      "Imputing row 1001/17341 with 5 missing, elapsed time: 110.604\n",
      "Imputing row 1101/17341 with 2 missing, elapsed time: 110.744\n",
      "Imputing row 1201/17341 with 3 missing, elapsed time: 110.893\n",
      "Imputing row 1301/17341 with 2 missing, elapsed time: 111.059\n",
      "Imputing row 1401/17341 with 4 missing, elapsed time: 111.259\n",
      "Imputing row 1501/17341 with 4 missing, elapsed time: 111.398\n",
      "Imputing row 1601/17341 with 2 missing, elapsed time: 111.533\n",
      "Imputing row 1701/17341 with 3 missing, elapsed time: 111.658\n",
      "Imputing row 1801/17341 with 8 missing, elapsed time: 111.805\n",
      "Imputing row 1901/17341 with 6 missing, elapsed time: 111.979\n",
      "Imputing row 2001/17341 with 6 missing, elapsed time: 112.141\n",
      "Imputing row 2101/17341 with 6 missing, elapsed time: 112.312\n",
      "Imputing row 2201/17341 with 4 missing, elapsed time: 112.507\n",
      "Imputing row 2301/17341 with 4 missing, elapsed time: 112.735\n",
      "Imputing row 2401/17341 with 4 missing, elapsed time: 112.947\n",
      "Imputing row 2501/17341 with 0 missing, elapsed time: 113.149\n",
      "Imputing row 2601/17341 with 0 missing, elapsed time: 113.162\n",
      "Imputing row 2701/17341 with 1 missing, elapsed time: 113.312\n",
      "Imputing row 2801/17341 with 1 missing, elapsed time: 113.475\n",
      "Imputing row 2901/17341 with 5 missing, elapsed time: 113.680\n",
      "Imputing row 3001/17341 with 5 missing, elapsed time: 113.915\n",
      "Imputing row 3101/17341 with 5 missing, elapsed time: 114.151\n",
      "Imputing row 3201/17341 with 2 missing, elapsed time: 114.381\n",
      "Imputing row 3301/17341 with 1 missing, elapsed time: 114.579\n",
      "Imputing row 3401/17341 with 3 missing, elapsed time: 114.803\n",
      "Imputing row 3501/17341 with 3 missing, elapsed time: 114.999\n",
      "Imputing row 3601/17341 with 0 missing, elapsed time: 115.086\n",
      "Imputing row 3701/17341 with 0 missing, elapsed time: 115.090\n",
      "Imputing row 3801/17341 with 0 missing, elapsed time: 115.105\n",
      "Imputing row 3901/17341 with 0 missing, elapsed time: 115.107\n",
      "Imputing row 4001/17341 with 0 missing, elapsed time: 115.112\n",
      "Imputing row 4101/17341 with 0 missing, elapsed time: 115.122\n",
      "Imputing row 4201/17341 with 0 missing, elapsed time: 115.131\n",
      "Imputing row 4301/17341 with 0 missing, elapsed time: 115.132\n",
      "Imputing row 4401/17341 with 1 missing, elapsed time: 115.155\n",
      "Imputing row 4501/17341 with 2 missing, elapsed time: 115.277\n",
      "Imputing row 4601/17341 with 1 missing, elapsed time: 115.433\n",
      "Imputing row 4701/17341 with 3 missing, elapsed time: 115.551\n",
      "Imputing row 4801/17341 with 2 missing, elapsed time: 115.698\n",
      "Imputing row 4901/17341 with 3 missing, elapsed time: 116.128\n",
      "Imputing row 5001/17341 with 2 missing, elapsed time: 116.474\n",
      "Imputing row 5101/17341 with 2 missing, elapsed time: 116.677\n",
      "Imputing row 5201/17341 with 2 missing, elapsed time: 116.862\n",
      "Imputing row 5301/17341 with 3 missing, elapsed time: 117.225\n",
      "Imputing row 5401/17341 with 2 missing, elapsed time: 117.397\n",
      "Imputing row 5501/17341 with 2 missing, elapsed time: 117.551\n",
      "Imputing row 5601/17341 with 4 missing, elapsed time: 117.846\n",
      "Imputing row 5701/17341 with 4 missing, elapsed time: 118.116\n",
      "Imputing row 5801/17341 with 4 missing, elapsed time: 118.307\n",
      "Imputing row 5901/17341 with 4 missing, elapsed time: 118.443\n",
      "Imputing row 6001/17341 with 4 missing, elapsed time: 118.612\n",
      "Imputing row 6101/17341 with 5 missing, elapsed time: 118.848\n",
      "Imputing row 6201/17341 with 5 missing, elapsed time: 119.073\n",
      "Imputing row 6301/17341 with 5 missing, elapsed time: 120.581\n",
      "Imputing row 6401/17341 with 3 missing, elapsed time: 120.966\n",
      "Imputing row 6501/17341 with 2 missing, elapsed time: 121.091\n",
      "Imputing row 6601/17341 with 2 missing, elapsed time: 121.223\n",
      "Imputing row 6701/17341 with 2 missing, elapsed time: 121.348\n",
      "Imputing row 6801/17341 with 4 missing, elapsed time: 121.480\n",
      "Imputing row 6901/17341 with 2 missing, elapsed time: 121.623\n",
      "Imputing row 7001/17341 with 4 missing, elapsed time: 121.894\n",
      "Imputing row 7101/17341 with 4 missing, elapsed time: 122.066\n",
      "Imputing row 7201/17341 with 3 missing, elapsed time: 122.245\n",
      "Imputing row 7301/17341 with 3 missing, elapsed time: 122.402\n",
      "Imputing row 7401/17341 with 4 missing, elapsed time: 122.550\n",
      "Imputing row 7501/17341 with 0 missing, elapsed time: 122.659\n",
      "Imputing row 7601/17341 with 0 missing, elapsed time: 122.659\n",
      "Imputing row 7701/17341 with 0 missing, elapsed time: 122.659\n",
      "Imputing row 7801/17341 with 0 missing, elapsed time: 122.659\n",
      "Imputing row 7901/17341 with 0 missing, elapsed time: 122.659\n",
      "Imputing row 8001/17341 with 0 missing, elapsed time: 122.675\n",
      "Imputing row 8101/17341 with 0 missing, elapsed time: 122.675\n",
      "Imputing row 8201/17341 with 1 missing, elapsed time: 122.722\n",
      "Imputing row 8301/17341 with 0 missing, elapsed time: 122.779\n",
      "Imputing row 8401/17341 with 1 missing, elapsed time: 122.794\n",
      "Imputing row 8501/17341 with 4 missing, elapsed time: 122.912\n",
      "Imputing row 8601/17341 with 4 missing, elapsed time: 123.094\n",
      "Imputing row 8701/17341 with 4 missing, elapsed time: 123.250\n",
      "Imputing row 8801/17341 with 4 missing, elapsed time: 123.444\n",
      "Imputing row 8901/17341 with 0 missing, elapsed time: 123.585\n",
      "Imputing row 9001/17341 with 1 missing, elapsed time: 123.747\n",
      "Imputing row 9101/17341 with 2 missing, elapsed time: 123.968\n",
      "Imputing row 9201/17341 with 0 missing, elapsed time: 124.114\n",
      "Imputing row 9301/17341 with 0 missing, elapsed time: 124.116\n",
      "Imputing row 9401/17341 with 0 missing, elapsed time: 124.124\n",
      "Imputing row 9501/17341 with 0 missing, elapsed time: 124.145\n",
      "Imputing row 9601/17341 with 2 missing, elapsed time: 125.235\n",
      "Imputing row 9701/17341 with 4 missing, elapsed time: 125.391\n",
      "Imputing row 9801/17341 with 4 missing, elapsed time: 125.555\n",
      "Imputing row 9901/17341 with 0 missing, elapsed time: 125.711\n",
      "Imputing row 10001/17341 with 0 missing, elapsed time: 125.711\n",
      "Imputing row 10101/17341 with 0 missing, elapsed time: 125.711\n",
      "Imputing row 10201/17341 with 0 missing, elapsed time: 125.727\n",
      "Imputing row 10301/17341 with 0 missing, elapsed time: 125.742\n",
      "Imputing row 10401/17341 with 2 missing, elapsed time: 125.806\n",
      "Imputing row 10501/17341 with 2 missing, elapsed time: 125.950\n",
      "Imputing row 10601/17341 with 4 missing, elapsed time: 126.091\n",
      "Imputing row 10701/17341 with 4 missing, elapsed time: 126.262\n",
      "Imputing row 10801/17341 with 4 missing, elapsed time: 126.430\n",
      "Imputing row 10901/17341 with 0 missing, elapsed time: 126.593\n",
      "Imputing row 11001/17341 with 1 missing, elapsed time: 126.632\n",
      "Imputing row 11101/17341 with 1 missing, elapsed time: 126.825\n",
      "Imputing row 11201/17341 with 2 missing, elapsed time: 126.975\n",
      "Imputing row 11301/17341 with 4 missing, elapsed time: 127.147\n",
      "Imputing row 11401/17341 with 4 missing, elapsed time: 127.344\n",
      "Imputing row 11501/17341 with 4 missing, elapsed time: 127.539\n",
      "Imputing row 11601/17341 with 0 missing, elapsed time: 128.991\n",
      "Imputing row 11701/17341 with 0 missing, elapsed time: 129.006\n",
      "Imputing row 11801/17341 with 1 missing, elapsed time: 129.131\n",
      "Imputing row 11901/17341 with 2 missing, elapsed time: 130.307\n",
      "Imputing row 12001/17341 with 0 missing, elapsed time: 130.416\n",
      "Imputing row 12101/17341 with 3 missing, elapsed time: 132.584\n",
      "Imputing row 12201/17341 with 1 missing, elapsed time: 132.684\n",
      "Imputing row 12301/17341 with 1 missing, elapsed time: 132.831\n",
      "Imputing row 12401/17341 with 0 missing, elapsed time: 132.909\n",
      "Imputing row 12501/17341 with 2 missing, elapsed time: 132.987\n",
      "Imputing row 12601/17341 with 1 missing, elapsed time: 133.100\n",
      "Imputing row 12701/17341 with 3 missing, elapsed time: 133.212\n",
      "Imputing row 12801/17341 with 5 missing, elapsed time: 133.340\n",
      "Imputing row 12901/17341 with 4 missing, elapsed time: 133.480\n",
      "Imputing row 13001/17341 with 4 missing, elapsed time: 133.642\n",
      "Imputing row 13101/17341 with 4 missing, elapsed time: 133.798\n"
     ]
    },
    {
     "name": "stdout",
     "output_type": "stream",
     "text": [
      "Imputing row 13201/17341 with 4 missing, elapsed time: 133.972\n",
      "Imputing row 13301/17341 with 4 missing, elapsed time: 134.130\n",
      "Imputing row 13401/17341 with 1 missing, elapsed time: 134.278\n",
      "Imputing row 13501/17341 with 1 missing, elapsed time: 134.419\n",
      "Imputing row 13601/17341 with 1 missing, elapsed time: 134.554\n",
      "Imputing row 13701/17341 with 2 missing, elapsed time: 134.670\n",
      "Imputing row 13801/17341 with 0 missing, elapsed time: 134.737\n",
      "Imputing row 13901/17341 with 0 missing, elapsed time: 134.738\n",
      "Imputing row 14001/17341 with 0 missing, elapsed time: 134.738\n",
      "Imputing row 14101/17341 with 0 missing, elapsed time: 134.738\n",
      "Imputing row 14201/17341 with 0 missing, elapsed time: 134.738\n",
      "Imputing row 14301/17341 with 0 missing, elapsed time: 134.739\n",
      "Imputing row 14401/17341 with 0 missing, elapsed time: 134.740\n",
      "Imputing row 14501/17341 with 5 missing, elapsed time: 134.770\n",
      "Imputing row 14601/17341 with 5 missing, elapsed time: 134.887\n",
      "Imputing row 14701/17341 with 5 missing, elapsed time: 134.995\n",
      "Imputing row 14801/17341 with 5 missing, elapsed time: 135.085\n",
      "Imputing row 14901/17341 with 4 missing, elapsed time: 135.179\n",
      "Imputing row 15001/17341 with 4 missing, elapsed time: 135.273\n",
      "Imputing row 15101/17341 with 4 missing, elapsed time: 135.367\n",
      "Imputing row 15201/17341 with 0 missing, elapsed time: 135.460\n",
      "Imputing row 15301/17341 with 0 missing, elapsed time: 135.460\n",
      "Imputing row 15401/17341 with 0 missing, elapsed time: 135.460\n",
      "Imputing row 15501/17341 with 0 missing, elapsed time: 135.460\n",
      "Imputing row 15601/17341 with 4 missing, elapsed time: 135.556\n",
      "Imputing row 15701/17341 with 3 missing, elapsed time: 135.687\n",
      "Imputing row 15801/17341 with 3 missing, elapsed time: 135.834\n",
      "Imputing row 15901/17341 with 3 missing, elapsed time: 135.981\n",
      "Imputing row 16001/17341 with 0 missing, elapsed time: 136.017\n",
      "Imputing row 16101/17341 with 3 missing, elapsed time: 136.129\n",
      "Imputing row 16201/17341 with 2 missing, elapsed time: 136.211\n",
      "Imputing row 16301/17341 with 0 missing, elapsed time: 136.256\n",
      "Imputing row 16401/17341 with 0 missing, elapsed time: 136.256\n",
      "Imputing row 16501/17341 with 0 missing, elapsed time: 136.256\n",
      "Imputing row 16601/17341 with 0 missing, elapsed time: 136.258\n",
      "Imputing row 16701/17341 with 4 missing, elapsed time: 136.315\n",
      "Imputing row 16801/17341 with 4 missing, elapsed time: 136.453\n",
      "Imputing row 16901/17341 with 4 missing, elapsed time: 136.638\n",
      "Imputing row 17001/17341 with 4 missing, elapsed time: 136.795\n",
      "Imputing row 17101/17341 with 2 missing, elapsed time: 136.910\n",
      "Imputing row 17201/17341 with 2 missing, elapsed time: 137.015\n",
      "Imputing row 17301/17341 with 3 missing, elapsed time: 137.123\n"
     ]
    }
   ],
   "source": [
    "knn_imputer = KNN()\n",
    "df_knn = df.copy(deep=True)\n",
    "df_knn.loc[:, :] = knn_imputer.fit_transform(df_knn)"
   ]
  },
  {
   "cell_type": "code",
   "execution_count": 100,
   "id": "2ab95852",
   "metadata": {},
   "outputs": [],
   "source": [
    "from sklearn.impute import SimpleImputer\n",
    "df_median = df.copy(deep=True)\n",
    "mean_imputer = SimpleImputer(strategy='median')\n",
    "df_median.loc[:, :]= mean_imputer.fit_transform(df_median)"
   ]
  },
  {
   "cell_type": "markdown",
   "id": "08ea497c",
   "metadata": {},
   "source": [
    "<p style=\"font-size: 1.5rem; color: #228ae6\">Visualization: added data and initial data</p>"
   ]
  },
  {
   "cell_type": "code",
   "execution_count": 48,
   "id": "da5fca9b",
   "metadata": {},
   "outputs": [
    {
     "data": {
      "text/plain": [
       "<AxesSubplot:title={'center':'KNN Imputation'}, xlabel='Evaporation', ylabel='Temp3pm'>"
      ]
     },
     "execution_count": 48,
     "metadata": {},
     "output_type": "execute_result"
    },
    {
     "data": {
      "image/png": "[encoded data removed]",
      "text/plain": [
       "<Figure size 432x288 with 2 Axes>"
      ]
     },
     "metadata": {
      "needs_background": "light"
     },
     "output_type": "display_data"
    }
   ],
   "source": [
    "nullity = df['Evaporation'].isnull()+df['Temp3pm'].isnull()\n",
    "df_knn.plot(x='Evaporation', y='Temp3pm',  kind='scatter', alpha=0.5,\n",
    "c=nullity, cmap='rainbow', title='KNN Imputation');"
   ]
  },
  {
   "cell_type": "markdown",
   "id": "773e4e34",
   "metadata": {},
   "source": [
    "<p style=\"font-size: 1.5rem; color: #228ae6\">Deal with missing values by Median</p>"
   ]
  },
  {
   "cell_type": "code",
   "execution_count": 101,
   "id": "81d37c9c",
   "metadata": {},
   "outputs": [
    {
     "data": {
      "image/png": "[encoded data removed]",
      "text/plain": [
       "<Figure size 432x288 with 2 Axes>"
      ]
     },
     "metadata": {
      "needs_background": "light"
     },
     "output_type": "display_data"
    }
   ],
   "source": [
    "nullity = df['Evaporation'].isnull()+df['Temp3pm'].isnull()\n",
    "df_median.plot(x='Evaporation', y='Temp3pm',  kind='scatter', alpha=0.5,\n",
    "c=nullity, cmap='rainbow', title='Median Imputation');"
   ]
  },
  {
   "cell_type": "markdown",
   "id": "ac65e658",
   "metadata": {},
   "source": [
    "<p style=\"font-size: 2rem; color: #DA2E87 \">Visually, KNN imputation represents better the distribution of data</p>"
   ]
  },
  {
   "cell_type": "markdown",
   "id": "f48a9203",
   "metadata": {},
   "source": [
    "<p style=\"font-size: 1.5rem; color: #228ae6\">Deal with missing values by dropna(), remove all missing values</p>"
   ]
  },
  {
   "cell_type": "code",
   "execution_count": 57,
   "id": "43021de3",
   "metadata": {},
   "outputs": [],
   "source": [
    "df_drop = df.dropna()"
   ]
  },
  {
   "cell_type": "code",
   "execution_count": 20,
   "id": "738606df",
   "metadata": {},
   "outputs": [
    {
     "name": "stdout",
     "output_type": "stream",
     "text": [
      "KNN: (17341, 11)\n",
      "Median: (17341, 11)\n",
      "dropna: (4713, 11)\n"
     ]
    }
   ],
   "source": [
    "print ('KNN:',df_knn.shape )\n",
    "print ('Median:',df_median.shape )\n",
    "print ('dropna:',df_drop.shape )"
   ]
  },
  {
   "cell_type": "markdown",
   "id": "f33dcc7a",
   "metadata": {},
   "source": [
    "<p style=\"font-size: 1.5rem; color: #228ae6\">Modelisation</p>"
   ]
  },
  {
   "cell_type": "code",
   "execution_count": 72,
   "id": "4e3c6f78",
   "metadata": {},
   "outputs": [],
   "source": [
    "from sklearn.metrics import classification_report\n",
    "def run_model(model, X_train, y_train, X_test, y_test):\n",
    "    model.fit(X_train,y_train)\n",
    "    y_pred = model.predict(X_test)\n",
    "    print(classification_report(y_test,y_pred,digits=5))\n",
    "    \n",
    "    return model"
   ]
  },
  {
   "cell_type": "markdown",
   "id": "fce9a8dd",
   "metadata": {},
   "source": [
    "<p style=\"font-size: 1.5rem; color: #228ae6\">Calcul with dataset_KNN imputation</p>"
   ]
  },
  {
   "cell_type": "code",
   "execution_count": 65,
   "id": "e303e70a",
   "metadata": {},
   "outputs": [],
   "source": [
    "feature = df_knn.drop(columns=['RainTomorrow'], axis=1)\n",
    "target = df_knn['RainTomorrow']"
   ]
  },
  {
   "cell_type": "code",
   "execution_count": 66,
   "id": "422c7994",
   "metadata": {},
   "outputs": [],
   "source": [
    "from sklearn.model_selection import train_test_split\n",
    "X_train_knn,X_test_knn,y_train_knn,y_test_knn=train_test_split(feature,target,test_size=0.2,random_state=100)"
   ]
  },
  {
   "cell_type": "code",
   "execution_count": 67,
   "id": "c5d05899",
   "metadata": {},
   "outputs": [],
   "source": [
    "from sklearn.preprocessing import RobustScaler\n",
    "rs = RobustScaler()\n",
    "X_train_knn_rs = rs.fit_transform(X_train_knn)\n",
    "X_test_knn_rs = rs.transform(X_test_knn)"
   ]
  },
  {
   "cell_type": "code",
   "execution_count": 70,
   "id": "6c662fcf",
   "metadata": {},
   "outputs": [
    {
     "name": "stdout",
     "output_type": "stream",
     "text": [
      "Classes échantillon SMOTE : {0.0: 10607, 1.0: 10607}\n"
     ]
    }
   ],
   "source": [
    "from imblearn.over_sampling import SMOTE\n",
    "smo = SMOTE()\n",
    "X_sm_knn, y_sm_knn = smo.fit_resample(X_train_knn_rs, y_train_knn)\n",
    "print('Classes échantillon SMOTE :', dict(pd.Series(y_sm_knn).value_counts()))"
   ]
  },
  {
   "cell_type": "code",
   "execution_count": 73,
   "id": "a85dcbdb",
   "metadata": {},
   "outputs": [
    {
     "name": "stdout",
     "output_type": "stream",
     "text": [
      "              precision    recall  f1-score   support\n",
      "\n",
      "         0.0    0.90778   0.79064   0.84517      2627\n",
      "         1.0    0.53429   0.74941   0.62383       842\n",
      "\n",
      "    accuracy                        0.78063      3469\n",
      "   macro avg    0.72104   0.77002   0.73450      3469\n",
      "weighted avg    0.81713   0.78063   0.79144      3469\n",
      "\n"
     ]
    }
   ],
   "source": [
    "from sklearn.linear_model import LogisticRegression\n",
    "\n",
    "params_lr ={'C': 1, 'class_weight': 'balanced', 'solver': 'saga','max_iter':400}\n",
    "\n",
    "model_lr = LogisticRegression(**params_lr)\n",
    "model_lr = run_model(model_lr, X_sm_knn,y_sm_knn, X_test_knn_rs, y_test_knn)"
   ]
  },
  {
   "cell_type": "markdown",
   "id": "705e1917",
   "metadata": {},
   "source": [
    "<p style=\"font-size: 1.5rem; color: #228ae6\">Calcul with dataset_Median imputation</p>"
   ]
  },
  {
   "cell_type": "code",
   "execution_count": 77,
   "id": "faf7c368",
   "metadata": {},
   "outputs": [
    {
     "name": "stdout",
     "output_type": "stream",
     "text": [
      "Classes échantillon SMOTE : {0.0: 10607, 1.0: 10607}\n"
     ]
    }
   ],
   "source": [
    "feature_med = df_median.drop(columns=['RainTomorrow'], axis=1)\n",
    "target_med = df_median['RainTomorrow']\n",
    "X_train_med,X_test_med,y_train_med,y_test_med=train_test_split(feature_med,target_med,test_size=0.2,random_state=100)\n",
    "rs = RobustScaler()\n",
    "X_train_med_rs = rs.fit_transform(X_train_med)\n",
    "X_test_med_rs = rs.transform(X_test_med)\n",
    "smo = SMOTE()\n",
    "X_sm_med, y_sm_med = smo.fit_resample(X_train_med_rs, y_train_med)\n",
    "print('Classes échantillon SMOTE :', dict(pd.Series(y_sm_med).value_counts()))"
   ]
  },
  {
   "cell_type": "code",
   "execution_count": 78,
   "id": "1a952187",
   "metadata": {},
   "outputs": [
    {
     "name": "stdout",
     "output_type": "stream",
     "text": [
      "              precision    recall  f1-score   support\n",
      "\n",
      "         0.0    0.89660   0.77236   0.82986      2627\n",
      "         1.0    0.50415   0.72209   0.59375       842\n",
      "\n",
      "    accuracy                        0.76016      3469\n",
      "   macro avg    0.70037   0.74723   0.71180      3469\n",
      "weighted avg    0.80134   0.76016   0.77255      3469\n",
      "\n"
     ]
    }
   ],
   "source": [
    "params_lr ={'C': 0.1, 'class_weight': 'balanced', 'solver': 'saga','max_iter':400}\n",
    "\n",
    "model_lr = LogisticRegression(**params_lr)\n",
    "model_lr = run_model(model_lr, X_sm_med,y_sm_med, X_test_med_rs, y_test_med)"
   ]
  },
  {
   "cell_type": "markdown",
   "id": "6420d9e6",
   "metadata": {},
   "source": [
    "\n",
    "<p style=\"font-size: 1.5rem; color: #228ae6\">Calcul with dataset_remove all missing values </p>"
   ]
  },
  {
   "cell_type": "code",
   "execution_count": 79,
   "id": "84485c28",
   "metadata": {},
   "outputs": [
    {
     "name": "stdout",
     "output_type": "stream",
     "text": [
      "Classes échantillon SMOTE : {0: 2908, 1: 2908}\n"
     ]
    }
   ],
   "source": [
    "feature_dr = df_drop.drop(columns=['RainTomorrow'], axis=1)\n",
    "target_dr = df_drop['RainTomorrow']\n",
    "X_train_dr,X_test_dr,y_train_dr,y_test_dr=train_test_split(feature_dr,target_dr,test_size=0.2,random_state=100)\n",
    "rs = RobustScaler()\n",
    "X_train_dr_rs = rs.fit_transform(X_train_dr)\n",
    "X_test_dr_rs = rs.transform(X_test_dr)\n",
    "smo = SMOTE()\n",
    "X_sm_dr, y_sm_dr = smo.fit_resample(X_train_dr_rs, y_train_dr)\n",
    "print('Classes échantillon SMOTE :', dict(pd.Series(y_sm_dr).value_counts()))"
   ]
  },
  {
   "cell_type": "code",
   "execution_count": 80,
   "id": "9de9cb57",
   "metadata": {},
   "outputs": [
    {
     "name": "stdout",
     "output_type": "stream",
     "text": [
      "              precision    recall  f1-score   support\n",
      "\n",
      "           0    0.92034   0.77131   0.83926       704\n",
      "           1    0.54391   0.80335   0.64865       239\n",
      "\n",
      "    accuracy                        0.77943       943\n",
      "   macro avg    0.73212   0.78733   0.74395       943\n",
      "weighted avg    0.82493   0.77943   0.79095       943\n",
      "\n"
     ]
    }
   ],
   "source": [
    "params_lr ={'C': 0.1, 'class_weight': 'balanced', 'solver': 'saga','max_iter':500}\n",
    "\n",
    "model_lr = LogisticRegression(**params_lr)\n",
    "model_lr = run_model(model_lr, X_sm_dr,y_sm_dr, X_test_dr_rs, y_test_dr)"
   ]
  },
  {
   "cell_type": "markdown",
   "id": "48842192",
   "metadata": {},
   "source": [
    "<p style=\"font-size: 1.5rem; color: #228ae6\">Xgboost does not require normalization, it supports missing values. So I tried xgboost model with the raw dataset (without data cleaning). </p>\n"
   ]
  },
  {
   "cell_type": "code",
   "execution_count": 81,
   "id": "70fd76dd",
   "metadata": {},
   "outputs": [],
   "source": [
    "feature_raw = df.drop(columns=['RainTomorrow'], axis=1)\n",
    "target_raw = df['RainTomorrow']"
   ]
  },
  {
   "cell_type": "code",
   "execution_count": 82,
   "id": "23cabc81",
   "metadata": {},
   "outputs": [],
   "source": [
    "X_train_raw,X_test_raw,y_train_raw,y_test_raw=train_test_split(feature_raw,target_raw,test_size=0.2,random_state=100)"
   ]
  },
  {
   "cell_type": "code",
   "execution_count": 85,
   "id": "727d1d23",
   "metadata": {},
   "outputs": [
    {
     "name": "stdout",
     "output_type": "stream",
     "text": [
      "              precision    recall  f1-score   support\n",
      "\n",
      "           0    0.85730   0.91473   0.88508      2627\n",
      "           1    0.66366   0.52494   0.58621       842\n",
      "\n",
      "    accuracy                        0.82012      3469\n",
      "   macro avg    0.76048   0.71984   0.73564      3469\n",
      "weighted avg    0.81030   0.82012   0.81254      3469\n",
      "\n"
     ]
    }
   ],
   "source": [
    "import xgboost as xgb\n",
    "params_xgb ={'n_estimators': 500,\n",
    "            'max_depth': 16}\n",
    "\n",
    "model_xgb = xgb.XGBClassifier(**params_xgb)\n",
    "model_xgb = run_model(model_xgb, X_train_raw,y_train_raw, X_test_raw, y_test_raw)"
   ]
  },
  {
   "cell_type": "code",
   "execution_count": 95,
   "id": "7303b15d",
   "metadata": {},
   "outputs": [
    {
     "name": "stdout",
     "output_type": "stream",
     "text": [
      "KNN: (17341, 12)\n",
      "Median: (17341, 12)\n",
      "dropna: (4713, 12)\n"
     ]
    }
   ],
   "source": [
    "print ('KNN:',df_knn.shape )\n",
    "print ('Median:',df_median.shape )\n",
    "print ('dropna:',df_drop.shape )"
   ]
  },
  {
   "cell_type": "code",
   "execution_count": 1,
   "id": "aa044862",
   "metadata": {},
   "outputs": [
    {
     "name": "stdout",
     "output_type": "stream",
     "text": [
      "f1_score\n",
      "   lr_dropna  lr_median  lr_KNN  xgboost_raw\n",
      "0       0.83       0.82    0.84         0.88\n",
      "1       0.64       0.59    0.62         0.58\n"
     ]
    }
   ],
   "source": [
    "from pandas import DataFrame\n",
    "data = {'lr_dropna':[0.83,0.64], 'lr_median':[0.82,0.59],'lr_KNN':[0.84,0.62],'xgboost_raw':[0.88,0.58]}\n",
    "df_result = DataFrame(data)\n",
    "print ('f1_score')\n",
    "print (df_result)"
   ]
  },
  {
   "cell_type": "markdown",
   "id": "b39fb4aa",
   "metadata": {},
   "source": [
    "<p style=\"font-size: 1.8rem; color: #1E3D94 \">1. Xgboost on the raw dataset (without datacleaning) got the best accuracy</p>\n",
    "<p style=\"font-size: 1.8rem; color: #1E3D94 \">2. LogisticRegression on the dropna dataset (remove missing values directly) got the best f1 score. In addition, the dropna dataset only contains 30% data, so we can save running time</p>\n",
    "\n",
    "<p style=\"font-size: 1.8rem; color: #D54D8F \">If the imputation is not suitable, there is a risk of importing noise, it could increase the running time and/or reduce the score.</p>\n"
   ]
  }
 ],
 "metadata": {
  "kernelspec": {
   "display_name": "Python 3 (ipykernel)",
   "language": "python",
   "name": "python3"
  },
  "language_info": {
   "codemirror_mode": {
    "name": "ipython",
    "version": 3
   },
   "file_extension": ".py",
   "mimetype": "text/x-python",
   "name": "python",
   "nbconvert_exporter": "python",
   "pygments_lexer": "ipython3",
   "version": "3.9.7"
  },
  "toc": {
   "base_numbering": 1,
   "nav_menu": {},
   "number_sections": true,
   "sideBar": true,
   "skip_h1_title": false,
   "title_cell": "Table of Contents",
   "title_sidebar": "Contents",
   "toc_cell": false,
   "toc_position": {},
   "toc_section_display": true,
   "toc_window_display": false
  }
 },
 "nbformat": 4,
 "nbformat_minor": 5
}
